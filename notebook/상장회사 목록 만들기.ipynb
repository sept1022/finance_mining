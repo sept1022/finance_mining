{
 "cells": [
  {
   "cell_type": "code",
   "execution_count": 1,
   "metadata": {},
   "outputs": [],
   "source": [
    "### 필요한 모듈\n",
    "from urllib.request import urlopen\n",
    "from io import BytesIO\n",
    "from zipfile import ZipFile\n",
    "\n",
    "### 회사고유번호 데이터 불러오기\n",
    "api_key = 'd1e5b05bbc86fef9c3d6a72ae1a1c764fd65b5fe'\n",
    "url = 'https://opendart.fss.or.kr/api/corpCode.xml?crtfc_key=%s' % api_key\n",
    "with urlopen(url) as zipresp:\n",
    "    with ZipFile(BytesIO(zipresp.read())) as zfile:\n",
    "        zfile.extractall('corp_num')\n",
    "        \n",
    "import xml.etree.ElementTree as ET\n",
    "tree = ET.parse('./corp_num/CORPCODE.xml')\n",
    "root = tree.getroot()\n",
    "\n",
    "stock_code_table = dict()\n",
    "for x in range(len(root)):\n",
    "    #root[0][0].tag = 'corp_code'\n",
    "    #root[0][1].tag = 'corp_name'\n",
    "    #root[0][2].tag = 'stock_code'\n",
    "    if root[x][2].text is not ' ':\n",
    "        stock_code_table[root[x][1].text] = root[x][2].text\n"
   ]
  },
  {
   "cell_type": "code",
   "execution_count": 2,
   "metadata": {},
   "outputs": [
    {
     "data": {
      "text/plain": [
       "3316"
      ]
     },
     "execution_count": 2,
     "metadata": {},
     "output_type": "execute_result"
    }
   ],
   "source": [
    "len(stock_code_table)"
   ]
  },
  {
   "cell_type": "code",
   "execution_count": 3,
   "metadata": {},
   "outputs": [
    {
     "data": {
      "text/plain": [
       "'005930'"
      ]
     },
     "execution_count": 3,
     "metadata": {},
     "output_type": "execute_result"
    }
   ],
   "source": [
    "stock_code_table['삼성전자']"
   ]
  },
  {
   "cell_type": "code",
   "execution_count": 1,
   "metadata": {},
   "outputs": [
    {
     "ename": "OverQueryLimit",
     "evalue": "사용한도를 초과하였습니다.",
     "output_type": "error",
     "traceback": [
      "\u001b[0;31m---------------------------------------------------------------------------\u001b[0m",
      "\u001b[0;31mOverQueryLimit\u001b[0m                            Traceback (most recent call last)",
      "\u001b[0;32m<ipython-input-1-023ba58bb277>\u001b[0m in \u001b[0;36m<module>\u001b[0;34m()\u001b[0m\n\u001b[1;32m      3\u001b[0m \u001b[0;34m\u001b[0m\u001b[0m\n\u001b[1;32m      4\u001b[0m \u001b[0mapi_key\u001b[0m \u001b[0;34m=\u001b[0m \u001b[0;34m'd1e5b05bbc86fef9c3d6a72ae1a1c764fd65b5fe'\u001b[0m\u001b[0;34m\u001b[0m\u001b[0;34m\u001b[0m\u001b[0m\n\u001b[0;32m----> 5\u001b[0;31m \u001b[0mdart_fss\u001b[0m\u001b[0;34m.\u001b[0m\u001b[0mset_api_key\u001b[0m\u001b[0;34m(\u001b[0m\u001b[0mapi_key\u001b[0m\u001b[0;34m=\u001b[0m\u001b[0mapi_key\u001b[0m\u001b[0;34m)\u001b[0m\u001b[0;34m\u001b[0m\u001b[0;34m\u001b[0m\u001b[0m\n\u001b[0m\u001b[1;32m      6\u001b[0m \u001b[0;34m\u001b[0m\u001b[0m\n\u001b[1;32m      7\u001b[0m \u001b[0mcorp_list\u001b[0m \u001b[0;34m=\u001b[0m \u001b[0mcorp\u001b[0m\u001b[0;34m.\u001b[0m\u001b[0mget_corp_list\u001b[0m\u001b[0;34m(\u001b[0m\u001b[0;34m)\u001b[0m\u001b[0;34m\u001b[0m\u001b[0;34m\u001b[0m\u001b[0m\n",
      "\u001b[0;32m~/local/anaconda3/lib/python3.6/site-packages/dart_fss/auth/auth.py\u001b[0m in \u001b[0;36mset_api_key\u001b[0;34m(api_key)\u001b[0m\n\u001b[1;32m     18\u001b[0m         \u001b[0m설정된\u001b[0m \u001b[0mAPI\u001b[0m \u001b[0mKEY\u001b[0m\u001b[0;34m\u001b[0m\u001b[0;34m\u001b[0m\u001b[0m\n\u001b[1;32m     19\u001b[0m     \"\"\"\n\u001b[0;32m---> 20\u001b[0;31m     \u001b[0mDartAuth\u001b[0m\u001b[0;34m(\u001b[0m\u001b[0;34m)\u001b[0m\u001b[0;34m.\u001b[0m\u001b[0mapi_key\u001b[0m \u001b[0;34m=\u001b[0m \u001b[0mapi_key\u001b[0m\u001b[0;34m\u001b[0m\u001b[0;34m\u001b[0m\u001b[0m\n\u001b[0m\u001b[1;32m     21\u001b[0m     \u001b[0mauth\u001b[0m \u001b[0;34m=\u001b[0m \u001b[0mDartAuth\u001b[0m\u001b[0;34m(\u001b[0m\u001b[0;34m)\u001b[0m\u001b[0;34m\u001b[0m\u001b[0;34m\u001b[0m\u001b[0m\n\u001b[1;32m     22\u001b[0m     \u001b[0;32mreturn\u001b[0m \u001b[0mauth\u001b[0m\u001b[0;34m.\u001b[0m\u001b[0mapi_key\u001b[0m\u001b[0;34m\u001b[0m\u001b[0;34m\u001b[0m\u001b[0m\n",
      "\u001b[0;32m~/local/anaconda3/lib/python3.6/site-packages/dart_fss/auth/auth.py\u001b[0m in \u001b[0;36mapi_key\u001b[0;34m(self, api_key)\u001b[0m\n\u001b[1;32m     91\u001b[0m         \u001b[0mdata\u001b[0m \u001b[0;34m=\u001b[0m \u001b[0mresp\u001b[0m\u001b[0;34m.\u001b[0m\u001b[0mjson\u001b[0m\u001b[0;34m(\u001b[0m\u001b[0;34m)\u001b[0m\u001b[0;34m\u001b[0m\u001b[0;34m\u001b[0m\u001b[0m\n\u001b[1;32m     92\u001b[0m \u001b[0;34m\u001b[0m\u001b[0m\n\u001b[0;32m---> 93\u001b[0;31m         \u001b[0mcheck_status\u001b[0m\u001b[0;34m(\u001b[0m\u001b[0;34m**\u001b[0m\u001b[0mdata\u001b[0m\u001b[0;34m)\u001b[0m\u001b[0;34m\u001b[0m\u001b[0;34m\u001b[0m\u001b[0m\n\u001b[0m\u001b[1;32m     94\u001b[0m         \u001b[0mself\u001b[0m\u001b[0;34m.\u001b[0m\u001b[0m__api_key\u001b[0m \u001b[0;34m=\u001b[0m \u001b[0mapi_key\u001b[0m\u001b[0;34m\u001b[0m\u001b[0;34m\u001b[0m\u001b[0m\n\u001b[1;32m     95\u001b[0m \u001b[0;34m\u001b[0m\u001b[0m\n",
      "\u001b[0;32m~/local/anaconda3/lib/python3.6/site-packages/dart_fss/errors/checker.py\u001b[0m in \u001b[0;36mcheck_status\u001b[0;34m(**kwargs)\u001b[0m\n\u001b[1;32m     45\u001b[0m     \u001b[0;32mif\u001b[0m \u001b[0merr\u001b[0m \u001b[0;32mis\u001b[0m \u001b[0;32mnot\u001b[0m \u001b[0;32mNone\u001b[0m\u001b[0;34m:\u001b[0m\u001b[0;34m\u001b[0m\u001b[0;34m\u001b[0m\u001b[0m\n\u001b[1;32m     46\u001b[0m         \u001b[0mmsg\u001b[0m \u001b[0;34m=\u001b[0m \u001b[0mkwargs\u001b[0m\u001b[0;34m.\u001b[0m\u001b[0mget\u001b[0m\u001b[0;34m(\u001b[0m\u001b[0;34m'message'\u001b[0m\u001b[0;34m)\u001b[0m\u001b[0;34m\u001b[0m\u001b[0;34m\u001b[0m\u001b[0m\n\u001b[0;32m---> 47\u001b[0;31m         \u001b[0;32mraise\u001b[0m \u001b[0merr\u001b[0m\u001b[0;34m(\u001b[0m\u001b[0mmsg\u001b[0m\u001b[0;34m)\u001b[0m\u001b[0;34m\u001b[0m\u001b[0;34m\u001b[0m\u001b[0m\n\u001b[0m",
      "\u001b[0;31mOverQueryLimit\u001b[0m: 사용한도를 초과하였습니다."
     ]
    }
   ],
   "source": [
    "import dart_fss\n",
    "from dart_fss import corp\n",
    "\n",
    "api_key = 'd1e5b05bbc86fef9c3d6a72ae1a1c764fd65b5fe'\n",
    "dart_fss.set_api_key(api_key=api_key)\n",
    "\n",
    "corp_list = corp.get_corp_list()\n",
    "\n",
    "# corp_list.find_by_corp_name('삼성전자', True)\n",
    "\n",
    "print(len(corp_list))"
   ]
  },
  {
   "cell_type": "markdown",
   "metadata": {},
   "source": [
    "help(corp_list)"
   ]
  },
  {
   "cell_type": "code",
   "execution_count": 6,
   "metadata": {},
   "outputs": [
    {
     "data": {
      "text/plain": [
       "[[00434003]다코,\n",
       " [00434456]일산약품,\n",
       " [00430964]굿앤엘에스,\n",
       " [00432403]한라판지,\n",
       " [00388953]크레디피아제이십오차유동화전문회사,\n",
       " [00179984]연방건설산업,\n",
       " [00420143]브룩스피알아이오토메이션잉크,\n",
       " [00401111]매경아이비아이,\n",
       " [00435534]캐드뱅크,\n",
       " [00430186]엠와이오피삼차유동화전문유한회사]"
      ]
     },
     "execution_count": 6,
     "metadata": {},
     "output_type": "execute_result"
    }
   ],
   "source": [
    "corp_list[:10]"
   ]
  },
  {
   "cell_type": "code",
   "execution_count": 7,
   "metadata": {},
   "outputs": [
    {
     "name": "stdout",
     "output_type": "stream",
     "text": [
      "3316\n"
     ]
    }
   ],
   "source": [
    "## make stock / code table\n",
    "stock_code_table = dict()\n",
    "for corp in corp_list:\n",
    "    if corp.stock_code in [None, '']:\n",
    "        continue\n",
    "    stock_code_table[corp.corp_name] = corp.stock_code\n",
    "print(len(stock_code_table))"
   ]
  },
  {
   "cell_type": "code",
   "execution_count": 9,
   "metadata": {},
   "outputs": [],
   "source": [
    "from tqdm.notebook import tqdm"
   ]
  },
  {
   "cell_type": "code",
   "execution_count": 10,
   "metadata": {},
   "outputs": [
    {
     "data": {
      "application/vnd.jupyter.widget-view+json": {
       "model_id": "8c3ece383a294db48db98edffdd96261",
       "version_major": 2,
       "version_minor": 0
      },
      "text/plain": [
       "HBox(children=(FloatProgress(value=0.0, max=87437.0), HTML(value='')))"
      ]
     },
     "metadata": {},
     "output_type": "display_data"
    },
    {
     "ename": "OverQueryLimit",
     "evalue": "사용한도를 초과하였습니다.",
     "output_type": "error",
     "traceback": [
      "\u001b[0;31m---------------------------------------------------------------------------\u001b[0m",
      "\u001b[0;31mOverQueryLimit\u001b[0m                            Traceback (most recent call last)",
      "\u001b[0;32m<ipython-input-10-9810bc096f85>\u001b[0m in \u001b[0;36m<module>\u001b[0;34m()\u001b[0m\n\u001b[1;32m      5\u001b[0m     \u001b[0;32mif\u001b[0m \u001b[0mcorp\u001b[0m\u001b[0;34m.\u001b[0m\u001b[0mstock_code\u001b[0m \u001b[0;32min\u001b[0m \u001b[0;34m[\u001b[0m\u001b[0;32mNone\u001b[0m\u001b[0;34m,\u001b[0m \u001b[0;34m''\u001b[0m\u001b[0;34m]\u001b[0m\u001b[0;34m:\u001b[0m\u001b[0;34m\u001b[0m\u001b[0;34m\u001b[0m\u001b[0m\n\u001b[1;32m      6\u001b[0m         \u001b[0;32mcontinue\u001b[0m\u001b[0;34m\u001b[0m\u001b[0;34m\u001b[0m\u001b[0m\n\u001b[0;32m----> 7\u001b[0;31m     \u001b[0mcompany_condition_list\u001b[0m\u001b[0;34m.\u001b[0m\u001b[0mappend\u001b[0m\u001b[0;34m(\u001b[0m\u001b[0mcorp\u001b[0m\u001b[0;34m.\u001b[0m\u001b[0mload\u001b[0m\u001b[0;34m(\u001b[0m\u001b[0;34m)\u001b[0m\u001b[0;34m)\u001b[0m\u001b[0;34m\u001b[0m\u001b[0;34m\u001b[0m\u001b[0m\n\u001b[0m",
      "\u001b[0;32m~/local/anaconda3/lib/python3.6/site-packages/dart_fss/corp/corp.py\u001b[0m in \u001b[0;36mload\u001b[0;34m(self)\u001b[0m\n\u001b[1;32m     85\u001b[0m         \u001b[0;34m\"\"\" 종목 정보 로딩 \"\"\"\u001b[0m\u001b[0;34m\u001b[0m\u001b[0;34m\u001b[0m\u001b[0m\n\u001b[1;32m     86\u001b[0m         \u001b[0;32mif\u001b[0m \u001b[0mself\u001b[0m\u001b[0;34m.\u001b[0m\u001b[0m_loading\u001b[0m \u001b[0;32mis\u001b[0m \u001b[0;32mFalse\u001b[0m\u001b[0;34m:\u001b[0m\u001b[0;34m\u001b[0m\u001b[0;34m\u001b[0m\u001b[0m\n\u001b[0;32m---> 87\u001b[0;31m             \u001b[0minfo\u001b[0m \u001b[0;34m=\u001b[0m \u001b[0mget_corp_info\u001b[0m\u001b[0;34m(\u001b[0m\u001b[0mself\u001b[0m\u001b[0;34m.\u001b[0m\u001b[0m_info\u001b[0m\u001b[0;34m[\u001b[0m\u001b[0;34m'corp_code'\u001b[0m\u001b[0;34m]\u001b[0m\u001b[0;34m)\u001b[0m\u001b[0;34m\u001b[0m\u001b[0;34m\u001b[0m\u001b[0m\n\u001b[0m\u001b[1;32m     88\u001b[0m             \u001b[0minfo\u001b[0m\u001b[0;34m.\u001b[0m\u001b[0mpop\u001b[0m\u001b[0;34m(\u001b[0m\u001b[0;34m'status'\u001b[0m\u001b[0;34m)\u001b[0m\u001b[0;34m\u001b[0m\u001b[0;34m\u001b[0m\u001b[0m\n\u001b[1;32m     89\u001b[0m             \u001b[0minfo\u001b[0m\u001b[0;34m.\u001b[0m\u001b[0mpop\u001b[0m\u001b[0;34m(\u001b[0m\u001b[0;34m'message'\u001b[0m\u001b[0;34m)\u001b[0m\u001b[0;34m\u001b[0m\u001b[0;34m\u001b[0m\u001b[0m\n",
      "\u001b[0;32m~/local/anaconda3/lib/python3.6/site-packages/dart_fss/api/filings/company.py\u001b[0m in \u001b[0;36mget_corp_info\u001b[0;34m(corp_code)\u001b[0m\n\u001b[1;32m     18\u001b[0m     \u001b[0mpath\u001b[0m \u001b[0;34m=\u001b[0m \u001b[0;34m'/api/company.json'\u001b[0m\u001b[0;34m\u001b[0m\u001b[0;34m\u001b[0m\u001b[0m\n\u001b[1;32m     19\u001b[0m \u001b[0;34m\u001b[0m\u001b[0m\n\u001b[0;32m---> 20\u001b[0;31m     \u001b[0;32mreturn\u001b[0m \u001b[0mapi_request\u001b[0m\u001b[0;34m(\u001b[0m\u001b[0mpath\u001b[0m\u001b[0;34m=\u001b[0m\u001b[0mpath\u001b[0m\u001b[0;34m,\u001b[0m \u001b[0mcorp_code\u001b[0m\u001b[0;34m=\u001b[0m\u001b[0mcorp_code\u001b[0m\u001b[0;34m)\u001b[0m\u001b[0;34m\u001b[0m\u001b[0;34m\u001b[0m\u001b[0m\n\u001b[0m",
      "\u001b[0;32m~/local/anaconda3/lib/python3.6/site-packages/dart_fss/api/helper.py\u001b[0m in \u001b[0;36mapi_request\u001b[0;34m(path, corp_code, bsns_year, reprt_code)\u001b[0m\n\u001b[1;32m     67\u001b[0m \u001b[0;34m\u001b[0m\u001b[0m\n\u001b[1;32m     68\u001b[0m     \u001b[0;31m# Status Code Check\u001b[0m\u001b[0;34m\u001b[0m\u001b[0;34m\u001b[0m\u001b[0;34m\u001b[0m\u001b[0m\n\u001b[0;32m---> 69\u001b[0;31m     \u001b[0mcheck_status\u001b[0m\u001b[0;34m(\u001b[0m\u001b[0;34m**\u001b[0m\u001b[0mdataset\u001b[0m\u001b[0;34m)\u001b[0m\u001b[0;34m\u001b[0m\u001b[0;34m\u001b[0m\u001b[0m\n\u001b[0m\u001b[1;32m     70\u001b[0m     \u001b[0;32mreturn\u001b[0m \u001b[0mdataset\u001b[0m\u001b[0;34m\u001b[0m\u001b[0;34m\u001b[0m\u001b[0m\n\u001b[1;32m     71\u001b[0m \u001b[0;34m\u001b[0m\u001b[0m\n",
      "\u001b[0;32m~/local/anaconda3/lib/python3.6/site-packages/dart_fss/errors/checker.py\u001b[0m in \u001b[0;36mcheck_status\u001b[0;34m(**kwargs)\u001b[0m\n\u001b[1;32m     45\u001b[0m     \u001b[0;32mif\u001b[0m \u001b[0merr\u001b[0m \u001b[0;32mis\u001b[0m \u001b[0;32mnot\u001b[0m \u001b[0;32mNone\u001b[0m\u001b[0;34m:\u001b[0m\u001b[0;34m\u001b[0m\u001b[0;34m\u001b[0m\u001b[0m\n\u001b[1;32m     46\u001b[0m         \u001b[0mmsg\u001b[0m \u001b[0;34m=\u001b[0m \u001b[0mkwargs\u001b[0m\u001b[0;34m.\u001b[0m\u001b[0mget\u001b[0m\u001b[0;34m(\u001b[0m\u001b[0;34m'message'\u001b[0m\u001b[0;34m)\u001b[0m\u001b[0;34m\u001b[0m\u001b[0;34m\u001b[0m\u001b[0m\n\u001b[0;32m---> 47\u001b[0;31m         \u001b[0;32mraise\u001b[0m \u001b[0merr\u001b[0m\u001b[0;34m(\u001b[0m\u001b[0mmsg\u001b[0m\u001b[0;34m)\u001b[0m\u001b[0;34m\u001b[0m\u001b[0;34m\u001b[0m\u001b[0m\n\u001b[0m",
      "\u001b[0;31mOverQueryLimit\u001b[0m: 사용한도를 초과하였습니다."
     ]
    }
   ],
   "source": [
    "company_condition_list = []\n",
    "    \n",
    "stock_code_table = dict()\n",
    "for corp in tqdm(corp_list):\n",
    "    if corp.stock_code in [None, '']:\n",
    "        continue\n",
    "    company_condition_list.append(corp.load())"
   ]
  },
  {
   "cell_type": "code",
   "execution_count": 4,
   "metadata": {},
   "outputs": [
    {
     "data": {
      "text/plain": [
       "3350"
      ]
     },
     "execution_count": 4,
     "metadata": {},
     "output_type": "execute_result"
    }
   ],
   "source": [
    "len(company_condition_list)"
   ]
  },
  {
   "cell_type": "code",
   "execution_count": 5,
   "metadata": {},
   "outputs": [
    {
     "data": {
      "text/plain": [
       "{'corp_code': '00260985',\n",
       " 'corp_name': '한빛네트',\n",
       " 'stock_code': '036720',\n",
       " 'modify_date': '20170630',\n",
       " 'corp_name_eng': 'HanbitNet, Inc.',\n",
       " 'stock_name': '한빛네트',\n",
       " 'ceo_nm': '강승환',\n",
       " 'corp_cls': 'E',\n",
       " 'jurir_no': '1101111443079',\n",
       " 'bizr_no': '2088124283',\n",
       " 'adres': '서울특별시 종로구 익선동 30-6',\n",
       " 'hm_url': 'www.hanbitnet.com',\n",
       " 'ir_url': '',\n",
       " 'phn_no': '02-3668-0114',\n",
       " 'fax_no': '02-3668-0112',\n",
       " 'induty_code': '58221',\n",
       " 'est_dt': '19970722',\n",
       " 'acc_mt': '12'}"
      ]
     },
     "execution_count": 5,
     "metadata": {},
     "output_type": "execute_result"
    }
   ],
   "source": [
    "company_condition_list[0]"
   ]
  },
  {
   "cell_type": "code",
   "execution_count": 6,
   "metadata": {
    "collapsed": true
   },
   "outputs": [
    {
     "data": {
      "text/html": [
       "<div>\n",
       "<style scoped>\n",
       "    .dataframe tbody tr th:only-of-type {\n",
       "        vertical-align: middle;\n",
       "    }\n",
       "\n",
       "    .dataframe tbody tr th {\n",
       "        vertical-align: top;\n",
       "    }\n",
       "\n",
       "    .dataframe thead th {\n",
       "        text-align: right;\n",
       "    }\n",
       "</style>\n",
       "<table border=\"1\" class=\"dataframe\">\n",
       "  <thead>\n",
       "    <tr style=\"text-align: right;\">\n",
       "      <th></th>\n",
       "      <th>corp_code</th>\n",
       "      <th>corp_name</th>\n",
       "      <th>stock_code</th>\n",
       "      <th>modify_date</th>\n",
       "      <th>corp_name_eng</th>\n",
       "      <th>stock_name</th>\n",
       "      <th>ceo_nm</th>\n",
       "      <th>corp_cls</th>\n",
       "      <th>jurir_no</th>\n",
       "      <th>bizr_no</th>\n",
       "      <th>adres</th>\n",
       "      <th>hm_url</th>\n",
       "      <th>ir_url</th>\n",
       "      <th>phn_no</th>\n",
       "      <th>fax_no</th>\n",
       "      <th>induty_code</th>\n",
       "      <th>est_dt</th>\n",
       "      <th>acc_mt</th>\n",
       "      <th>sector</th>\n",
       "      <th>product</th>\n",
       "    </tr>\n",
       "  </thead>\n",
       "  <tbody>\n",
       "    <tr>\n",
       "      <th>0</th>\n",
       "      <td>00260985</td>\n",
       "      <td>한빛네트</td>\n",
       "      <td>036720</td>\n",
       "      <td>20170630</td>\n",
       "      <td>HanbitNet, Inc.</td>\n",
       "      <td>한빛네트</td>\n",
       "      <td>강승환</td>\n",
       "      <td>E</td>\n",
       "      <td>1101111443079</td>\n",
       "      <td>2088124283</td>\n",
       "      <td>서울특별시 종로구 익선동 30-6</td>\n",
       "      <td>www.hanbitnet.com</td>\n",
       "      <td></td>\n",
       "      <td>02-3668-0114</td>\n",
       "      <td>02-3668-0112</td>\n",
       "      <td>58221</td>\n",
       "      <td>19970722</td>\n",
       "      <td>12</td>\n",
       "      <td>NaN</td>\n",
       "      <td>NaN</td>\n",
       "    </tr>\n",
       "    <tr>\n",
       "      <th>1</th>\n",
       "      <td>00264529</td>\n",
       "      <td>(주)엔플렉스</td>\n",
       "      <td>040130</td>\n",
       "      <td>20170630</td>\n",
       "      <td>Nplex,Inc.</td>\n",
       "      <td>엔플렉스</td>\n",
       "      <td>이 정 학</td>\n",
       "      <td>E</td>\n",
       "      <td>1101111601750</td>\n",
       "      <td>2208156354</td>\n",
       "      <td>서울특별시 강남구 논현동 98 동익빌딩 2층</td>\n",
       "      <td>www.gamekorea.net</td>\n",
       "      <td></td>\n",
       "      <td>(02) 3453-7111</td>\n",
       "      <td>(02) 3453-7345</td>\n",
       "      <td>58221</td>\n",
       "      <td>19981030</td>\n",
       "      <td>12</td>\n",
       "      <td>NaN</td>\n",
       "      <td>NaN</td>\n",
       "    </tr>\n",
       "    <tr>\n",
       "      <th>2</th>\n",
       "      <td>00358545</td>\n",
       "      <td>(주)동서정보기술</td>\n",
       "      <td>055000</td>\n",
       "      <td>20170630</td>\n",
       "      <td>Dong Seo Information Technology Co., Ltd.</td>\n",
       "      <td>동서정보기술</td>\n",
       "      <td>이희봉</td>\n",
       "      <td>E</td>\n",
       "      <td>1101111259525</td>\n",
       "      <td>2208103653</td>\n",
       "      <td>서울특별시 강남구 대치동 997-4</td>\n",
       "      <td>http://www.dsit.co.kr</td>\n",
       "      <td></td>\n",
       "      <td>02-565-4510 (220)</td>\n",
       "      <td>02-3453-4552</td>\n",
       "      <td>58221</td>\n",
       "      <td>19960410</td>\n",
       "      <td>12</td>\n",
       "      <td>NaN</td>\n",
       "      <td>NaN</td>\n",
       "    </tr>\n",
       "    <tr>\n",
       "      <th>3</th>\n",
       "      <td>00231567</td>\n",
       "      <td>주식회사 애드모바일</td>\n",
       "      <td>032600</td>\n",
       "      <td>20170630</td>\n",
       "      <td></td>\n",
       "      <td>애드모바일</td>\n",
       "      <td>김용석</td>\n",
       "      <td>E</td>\n",
       "      <td>1101111166837</td>\n",
       "      <td>1208151156</td>\n",
       "      <td>서울특별시 강서구 가양동 1458-9 동남빌딩 2층</td>\n",
       "      <td>www.kdline.co.kr</td>\n",
       "      <td></td>\n",
       "      <td>02-518-0101 (변광섭)</td>\n",
       "      <td>02-518-0133</td>\n",
       "      <td>58221</td>\n",
       "      <td>19950614</td>\n",
       "      <td>12</td>\n",
       "      <td>NaN</td>\n",
       "      <td>NaN</td>\n",
       "    </tr>\n",
       "    <tr>\n",
       "      <th>4</th>\n",
       "      <td>00247939</td>\n",
       "      <td>(주)씨모스</td>\n",
       "      <td>037600</td>\n",
       "      <td>20170630</td>\n",
       "      <td>creative master of semiconductor. co.,ltd</td>\n",
       "      <td>씨모스</td>\n",
       "      <td>유인엽</td>\n",
       "      <td>E</td>\n",
       "      <td>1201110118077</td>\n",
       "      <td>1398120545</td>\n",
       "      <td>인천광역시 남동구 고잔동 685-6</td>\n",
       "      <td>www.cmos21.co.kr</td>\n",
       "      <td></td>\n",
       "      <td>032-814-0981-4</td>\n",
       "      <td>032-814-0985</td>\n",
       "      <td>29294</td>\n",
       "      <td>19950509</td>\n",
       "      <td>12</td>\n",
       "      <td>NaN</td>\n",
       "      <td>NaN</td>\n",
       "    </tr>\n",
       "    <tr>\n",
       "      <th>...</th>\n",
       "      <td>...</td>\n",
       "      <td>...</td>\n",
       "      <td>...</td>\n",
       "      <td>...</td>\n",
       "      <td>...</td>\n",
       "      <td>...</td>\n",
       "      <td>...</td>\n",
       "      <td>...</td>\n",
       "      <td>...</td>\n",
       "      <td>...</td>\n",
       "      <td>...</td>\n",
       "      <td>...</td>\n",
       "      <td>...</td>\n",
       "      <td>...</td>\n",
       "      <td>...</td>\n",
       "      <td>...</td>\n",
       "      <td>...</td>\n",
       "      <td>...</td>\n",
       "      <td>...</td>\n",
       "      <td>...</td>\n",
       "    </tr>\n",
       "    <tr>\n",
       "      <th>3345</th>\n",
       "      <td>00302078</td>\n",
       "      <td>(주)한국코퍼레이션</td>\n",
       "      <td>050540</td>\n",
       "      <td>20210513</td>\n",
       "      <td>HANKOOK Corporation Inc.</td>\n",
       "      <td>한국코퍼레이션</td>\n",
       "      <td>성상윤, 조성완 (각자 대표이사)</td>\n",
       "      <td>K</td>\n",
       "      <td>1101110793657</td>\n",
       "      <td>1208133916</td>\n",
       "      <td>서울특별시 중구 소월로2길 30 남산트라팰리스</td>\n",
       "      <td>www.besthc.co.kr</td>\n",
       "      <td></td>\n",
       "      <td>02-3401-4114</td>\n",
       "      <td>02-3402-3551</td>\n",
       "      <td>75991</td>\n",
       "      <td>19910724</td>\n",
       "      <td>12</td>\n",
       "      <td>기타 사업지원 서비스업</td>\n",
       "      <td>CRM서비스,CRM솔루션</td>\n",
       "    </tr>\n",
       "    <tr>\n",
       "      <th>3346</th>\n",
       "      <td>00304401</td>\n",
       "      <td>(주)텔라움</td>\n",
       "      <td>047730</td>\n",
       "      <td>20210506</td>\n",
       "      <td>TELAUM CO., LTD.</td>\n",
       "      <td>텔라움</td>\n",
       "      <td>김형엽</td>\n",
       "      <td>E</td>\n",
       "      <td>1243110038730</td>\n",
       "      <td>1308135380</td>\n",
       "      <td>경기도 부천시 원미구 부천로 312 (도당동)</td>\n",
       "      <td>www.telaum.com</td>\n",
       "      <td></td>\n",
       "      <td>032-222-2132</td>\n",
       "      <td>032-222-2001</td>\n",
       "      <td>2642</td>\n",
       "      <td>19930507</td>\n",
       "      <td>12</td>\n",
       "      <td>NaN</td>\n",
       "      <td>NaN</td>\n",
       "    </tr>\n",
       "    <tr>\n",
       "      <th>3347</th>\n",
       "      <td>00521390</td>\n",
       "      <td>(주)뉴파워프라즈마</td>\n",
       "      <td>144960</td>\n",
       "      <td>20210602</td>\n",
       "      <td>New Power Plasma Co.,Ltd</td>\n",
       "      <td>뉴파워프라즈마</td>\n",
       "      <td>양재영</td>\n",
       "      <td>K</td>\n",
       "      <td>1101111784952</td>\n",
       "      <td>2128144110</td>\n",
       "      <td>경기도 수원시 권선구 산업로155번길 214 (주)뉴파워프라즈마</td>\n",
       "      <td>newpower.co.kr</td>\n",
       "      <td></td>\n",
       "      <td>031-612-7600</td>\n",
       "      <td>031-612-7699</td>\n",
       "      <td>29271</td>\n",
       "      <td>19991007</td>\n",
       "      <td>12</td>\n",
       "      <td>특수 목적용 기계 제조업</td>\n",
       "      <td>플라즈마 세정기(Remote Plasma Cleaning Generator)</td>\n",
       "    </tr>\n",
       "    <tr>\n",
       "      <th>3348</th>\n",
       "      <td>00838500</td>\n",
       "      <td>엘브이엠씨홀딩스(주)</td>\n",
       "      <td>900140</td>\n",
       "      <td>20210611</td>\n",
       "      <td>LVMC Holdings CO,.LTD</td>\n",
       "      <td>엘브이엠씨</td>\n",
       "      <td>오세영, 노성석, 김선발 (각자 대표이사)</td>\n",
       "      <td>Y</td>\n",
       "      <td></td>\n",
       "      <td>1048407756</td>\n",
       "      <td>PO Box 309, Ugland House, Grand Cayman, KY1-11...</td>\n",
       "      <td>http://www.lvmcholdings.net</td>\n",
       "      <td></td>\n",
       "      <td>070-8615-4824</td>\n",
       "      <td>02-6280-5118</td>\n",
       "      <td>451</td>\n",
       "      <td>20090616</td>\n",
       "      <td>12</td>\n",
       "      <td>자동차 판매업</td>\n",
       "      <td>지주회사</td>\n",
       "    </tr>\n",
       "    <tr>\n",
       "      <th>3349</th>\n",
       "      <td>00160232</td>\n",
       "      <td>(주)케이에스에스 해운</td>\n",
       "      <td>044450</td>\n",
       "      <td>20210628</td>\n",
       "      <td>KSS LINE LTD.</td>\n",
       "      <td>KSS해운</td>\n",
       "      <td>이대성</td>\n",
       "      <td>Y</td>\n",
       "      <td>1101110377055</td>\n",
       "      <td>1018134423</td>\n",
       "      <td>서울특별시 종로구 인사동길 12 대일빌딩 8층</td>\n",
       "      <td>www.kssline.com</td>\n",
       "      <td></td>\n",
       "      <td>3702-2700</td>\n",
       "      <td>02-733-4103</td>\n",
       "      <td>50112</td>\n",
       "      <td>19840627</td>\n",
       "      <td>12</td>\n",
       "      <td>해상 운송업</td>\n",
       "      <td>특수화물해상운송(케이컬,액화가스,냉동.냉장화물),선박대여</td>\n",
       "    </tr>\n",
       "  </tbody>\n",
       "</table>\n",
       "<p>3350 rows × 20 columns</p>\n",
       "</div>"
      ],
      "text/plain": [
       "     corp_code     corp_name stock_code modify_date  \\\n",
       "0     00260985          한빛네트     036720    20170630   \n",
       "1     00264529       (주)엔플렉스     040130    20170630   \n",
       "2     00358545     (주)동서정보기술     055000    20170630   \n",
       "3     00231567    주식회사 애드모바일     032600    20170630   \n",
       "4     00247939        (주)씨모스     037600    20170630   \n",
       "...        ...           ...        ...         ...   \n",
       "3345  00302078    (주)한국코퍼레이션     050540    20210513   \n",
       "3346  00304401        (주)텔라움     047730    20210506   \n",
       "3347  00521390    (주)뉴파워프라즈마     144960    20210602   \n",
       "3348  00838500   엘브이엠씨홀딩스(주)     900140    20210611   \n",
       "3349  00160232  (주)케이에스에스 해운     044450    20210628   \n",
       "\n",
       "                                  corp_name_eng stock_name  \\\n",
       "0                               HanbitNet, Inc.       한빛네트   \n",
       "1                                    Nplex,Inc.       엔플렉스   \n",
       "2     Dong Seo Information Technology Co., Ltd.     동서정보기술   \n",
       "3                                                    애드모바일   \n",
       "4     creative master of semiconductor. co.,ltd        씨모스   \n",
       "...                                         ...        ...   \n",
       "3345                   HANKOOK Corporation Inc.    한국코퍼레이션   \n",
       "3346                           TELAUM CO., LTD.        텔라움   \n",
       "3347                   New Power Plasma Co.,Ltd    뉴파워프라즈마   \n",
       "3348                      LVMC Holdings CO,.LTD      엘브이엠씨   \n",
       "3349                              KSS LINE LTD.      KSS해운   \n",
       "\n",
       "                       ceo_nm corp_cls       jurir_no     bizr_no  \\\n",
       "0                         강승환        E  1101111443079  2088124283   \n",
       "1                       이 정 학        E  1101111601750  2208156354   \n",
       "2                         이희봉        E  1101111259525  2208103653   \n",
       "3                         김용석        E  1101111166837  1208151156   \n",
       "4                         유인엽        E  1201110118077  1398120545   \n",
       "...                       ...      ...            ...         ...   \n",
       "3345       성상윤, 조성완 (각자 대표이사)        K  1101110793657  1208133916   \n",
       "3346                      김형엽        E  1243110038730  1308135380   \n",
       "3347                      양재영        K  1101111784952  2128144110   \n",
       "3348  오세영, 노성석, 김선발 (각자 대표이사)        Y                 1048407756   \n",
       "3349                      이대성        Y  1101110377055  1018134423   \n",
       "\n",
       "                                                  adres  \\\n",
       "0                                    서울특별시 종로구 익선동 30-6   \n",
       "1                              서울특별시 강남구 논현동 98 동익빌딩 2층   \n",
       "2                                  서울특별시 강남구 대치동 997-4    \n",
       "3                          서울특별시 강서구 가양동 1458-9 동남빌딩 2층   \n",
       "4                                   인천광역시 남동구 고잔동 685-6   \n",
       "...                                                 ...   \n",
       "3345                          서울특별시 중구 소월로2길 30 남산트라팰리스   \n",
       "3346                          경기도 부천시 원미구 부천로 312 (도당동)   \n",
       "3347                경기도 수원시 권선구 산업로155번길 214 (주)뉴파워프라즈마   \n",
       "3348  PO Box 309, Ugland House, Grand Cayman, KY1-11...   \n",
       "3349                          서울특별시 종로구 인사동길 12 대일빌딩 8층   \n",
       "\n",
       "                           hm_url ir_url             phn_no          fax_no  \\\n",
       "0               www.hanbitnet.com              02-3668-0114    02-3668-0112   \n",
       "1               www.gamekorea.net            (02) 3453-7111  (02) 3453-7345   \n",
       "2           http://www.dsit.co.kr         02-565-4510 (220)    02-3453-4552   \n",
       "3                www.kdline.co.kr         02-518-0101 (변광섭)     02-518-0133   \n",
       "4                www.cmos21.co.kr            032-814-0981-4    032-814-0985   \n",
       "...                           ...    ...                ...             ...   \n",
       "3345             www.besthc.co.kr              02-3401-4114    02-3402-3551   \n",
       "3346               www.telaum.com              032-222-2132    032-222-2001   \n",
       "3347               newpower.co.kr              031-612-7600    031-612-7699   \n",
       "3348  http://www.lvmcholdings.net             070-8615-4824    02-6280-5118   \n",
       "3349              www.kssline.com                 3702-2700     02-733-4103   \n",
       "\n",
       "     induty_code    est_dt acc_mt         sector  \\\n",
       "0          58221  19970722     12            NaN   \n",
       "1          58221  19981030     12            NaN   \n",
       "2          58221  19960410     12            NaN   \n",
       "3          58221  19950614     12            NaN   \n",
       "4          29294  19950509     12            NaN   \n",
       "...          ...       ...    ...            ...   \n",
       "3345       75991  19910724     12   기타 사업지원 서비스업   \n",
       "3346        2642  19930507     12            NaN   \n",
       "3347       29271  19991007     12  특수 목적용 기계 제조업   \n",
       "3348         451  20090616     12        자동차 판매업   \n",
       "3349       50112  19840627     12         해상 운송업   \n",
       "\n",
       "                                         product  \n",
       "0                                            NaN  \n",
       "1                                            NaN  \n",
       "2                                            NaN  \n",
       "3                                            NaN  \n",
       "4                                            NaN  \n",
       "...                                          ...  \n",
       "3345                               CRM서비스,CRM솔루션  \n",
       "3346                                         NaN  \n",
       "3347  플라즈마 세정기(Remote Plasma Cleaning Generator)  \n",
       "3348                                        지주회사  \n",
       "3349             특수화물해상운송(케이컬,액화가스,냉동.냉장화물),선박대여  \n",
       "\n",
       "[3350 rows x 20 columns]"
      ]
     },
     "execution_count": 6,
     "metadata": {},
     "output_type": "execute_result"
    }
   ],
   "source": [
    "import pickle\n",
    "with open('company_condition_list.txt','wb') as f:\n",
    "    pickle.dump(company_condition_list,f)\n"
   ]
  },
  {
   "cell_type": "code",
   "execution_count": 3,
   "metadata": {},
   "outputs": [
    {
     "ename": "NameError",
     "evalue": "name 'company_condition_list' is not defined",
     "output_type": "error",
     "traceback": [
      "\u001b[0;31m---------------------------------------------------------------------------\u001b[0m",
      "\u001b[0;31mNameError\u001b[0m                                 Traceback (most recent call last)",
      "\u001b[0;32m<ipython-input-3-a4cf895996a6>\u001b[0m in \u001b[0;36m<module>\u001b[0;34m()\u001b[0m\n\u001b[1;32m      6\u001b[0m     \u001b[0mpickle\u001b[0m\u001b[0;34m.\u001b[0m\u001b[0mload\u001b[0m\u001b[0;34m(\u001b[0m\u001b[0mf\u001b[0m\u001b[0;34m)\u001b[0m\u001b[0;34m\u001b[0m\u001b[0;34m\u001b[0m\u001b[0m\n\u001b[1;32m      7\u001b[0m \u001b[0;34m\u001b[0m\u001b[0m\n\u001b[0;32m----> 8\u001b[0;31m \u001b[0mpd_data\u001b[0m \u001b[0;34m=\u001b[0m \u001b[0mpd\u001b[0m\u001b[0;34m.\u001b[0m\u001b[0mDataFrame\u001b[0m\u001b[0;34m.\u001b[0m\u001b[0mfrom_dict\u001b[0m\u001b[0;34m(\u001b[0m\u001b[0mcompany_condition_list\u001b[0m\u001b[0;34m)\u001b[0m\u001b[0;34m\u001b[0m\u001b[0;34m\u001b[0m\u001b[0m\n\u001b[0m\u001b[1;32m      9\u001b[0m \u001b[0mpd_data\u001b[0m\u001b[0;34m\u001b[0m\u001b[0;34m\u001b[0m\u001b[0m\n",
      "\u001b[0;31mNameError\u001b[0m: name 'company_condition_list' is not defined"
     ]
    }
   ],
   "source": [
    "import pickle\n",
    "### Pnadas DataFrame 모듈 import\n",
    "import pandas as pd\n",
    "\n",
    "company\n",
    "with open('company_condition_list.txt', 'rb') as f:\n",
    "    compapickle.load(f)\n",
    "\n",
    "pd_data = pd.DataFrame.from_dict(company_condition_list)\n",
    "pd_data"
   ]
  },
  {
   "cell_type": "code",
   "execution_count": null,
   "metadata": {},
   "outputs": [],
   "source": []
  }
 ],
 "metadata": {
  "kernelspec": {
   "display_name": "Python 3",
   "language": "python",
   "name": "python3"
  },
  "language_info": {
   "codemirror_mode": {
    "name": "ipython",
    "version": 3
   },
   "file_extension": ".py",
   "mimetype": "text/x-python",
   "name": "python",
   "nbconvert_exporter": "python",
   "pygments_lexer": "ipython3",
   "version": "3.6.8"
  }
 },
 "nbformat": 4,
 "nbformat_minor": 2
}
